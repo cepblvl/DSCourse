{
 "cells": [
  {
   "cell_type": "code",
   "execution_count": 38,
   "metadata": {
    "collapsed": true,
    "pycharm": {
     "is_executing": false
    }
   },
   "outputs": [],
   "source": [
    "import re\n",
    "import numpy as np\n",
    "from scipy.spatial import distance\n",
    "f1=open('sentences.txt','r')\n",
    "strs=[]\n",
    "for line in f1:\n",
    "    strs.append([x for x in re.split('[^a-z]', line.lower()) if x!=''])\n",
    "f1.close()\n",
    "words={}\n",
    "i=0\n",
    "j=0\n",
    "\n",
    "for line in strs:\n",
    "    for word in line:\n",
    "        if not (word in words):\n",
    "            words[word]=i\n",
    "            i+=1\n",
    "word_in_str=np.zeros((len(strs),len(words)))\n",
    "for line in strs:\n",
    "    for word in line:\n",
    "        word_in_str[j,words[word]]+=1\n",
    "    j+=1\n",
    "dist=[]\n",
    "for i in word_in_str:\n",
    "    dist.append(distance.cosine(word_in_str[0],i))\n",
    "a=dist.copy()\n",
    "a.sort()\n",
    "\n",
    "f2=open('1.txt','w')\n",
    "f2.write(str(dist.index(a[1]))+' '+str(dist.index(a[2])))\n",
    "f2.close()"
   ]
  }
 ],
 "metadata": {
  "kernelspec": {
   "display_name": "Python 3",
   "language": "python",
   "name": "python3"
  },
  "language_info": {
   "codemirror_mode": {
    "name": "ipython",
    "version": 2
   },
   "file_extension": ".py",
   "mimetype": "text/x-python",
   "name": "python",
   "nbconvert_exporter": "python",
   "pygments_lexer": "ipython2",
   "version": "2.7.6"
  },
  "pycharm": {
   "stem_cell": {
    "cell_type": "raw",
    "source": [],
    "metadata": {
     "collapsed": false
    }
   }
  }
 },
 "nbformat": 4,
 "nbformat_minor": 0
}
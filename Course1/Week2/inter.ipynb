{
 "cells": [
  {
   "cell_type": "code",
   "execution_count": null,
   "metadata": {
    "collapsed": true
   },
   "outputs": [],
   "source": [
    "import numpy as np\n",
    "import matplotlib\n",
    "from scipy import linalg\n",
    "from matplotlib import pyplot as plt"
   ]
  },
  {
   "cell_type": "code",
   "execution_count": null,
   "outputs": [],
   "source": [
    "def f(x):\n",
    "    return np.sin(x/5)*np.exp(x/10)+5*np.exp(-x/2)"
   ],
   "metadata": {
    "collapsed": false,
    "pycharm": {
     "name": "#%%\n"
    }
   }
  },
  {
   "cell_type": "code",
   "execution_count": null,
   "outputs": [],
   "source": [
    "def matrix_A(x,n):\n",
    "    A=[]\n",
    "    for i in x:\n",
    "        A.append([i**p for p in range(n)])\n",
    "    return np.array(A)"
   ],
   "metadata": {
    "collapsed": false,
    "pycharm": {
     "name": "#%%\n"
    }
   }
  },
  {
   "cell_type": "code",
   "execution_count": null,
   "outputs": [],
   "source": [
    "def vector_b(x):\n",
    "    b=[]\n",
    "    for i in x:\n",
    "        b.append(f(i))\n",
    "    return np.array(b)"
   ],
   "metadata": {
    "collapsed": false,
    "pycharm": {
     "name": "#%%\n"
    }
   }
  },
  {
   "cell_type": "code",
   "execution_count": null,
   "outputs": [],
   "source": [
    "def polynom(x,w):\n",
    "    return matrix_A(x,len(w)+1).dot(w)\n",
    "    \n",
    "    "
   ],
   "metadata": {
    "collapsed": false,
    "pycharm": {
     "name": "#%%\n"
    }
   }
  },
  {
   "cell_type": "code",
   "execution_count": null,
   "outputs": [],
   "source": [
    "x1=np.array([1,15])\n",
    "A1=matrix_A(x1,2)\n",
    "b1=vector_b(x1)\n",
    "w1=linalg.solve(A1,b1)\n",
    "x2=np.array([1,8,15])\n",
    "A2=matrix_A(x2,3)\n",
    "b2=vector_b(x2)\n",
    "w2=linalg.solve(A2,b2)\n",
    "x3=np.array([1,4,10,15])\n",
    "A3=matrix_A(x3,4)\n",
    "b3=vector_b(x3)\n",
    "w3=linalg.solve(A3,b3)"
   ],
   "metadata": {
    "collapsed": false,
    "pycharm": {
     "name": "#%%\n"
    }
   }
  },
  {
   "cell_type": "code",
   "execution_count": null,
   "outputs": [],
   "source": [
    "%matplotlib inline\n",
    "x = np.arange(1, 15, 0.01)\n",
    "y = f(x)\n",
    "plt.plot(x, y,'r',x,polynom(x,w1),'b',x,polynom(x,w2),'g',x,polynom(x,w3),'m',)\n",
    "plt.show()\n"
   ],
   "metadata": {
    "collapsed": false,
    "pycharm": {
     "name": "#%%\n"
    }
   }
  },
  {
   "cell_type": "code",
   "execution_count": 30,
   "outputs": [],
   "source": [
    "answer=np.around(w3,decimals=2)\n",
    "\n",
    "np.savetxt('2.txt',w3[np.newaxis,:], delimiter=' ',fmt='%.2f')\n"
   ],
   "metadata": {
    "collapsed": false,
    "pycharm": {
     "name": "#%%\n",
     "is_executing": false
    }
   }
  }
 ],
 "metadata": {
  "kernelspec": {
   "display_name": "Python 3",
   "language": "python",
   "name": "python3"
  },
  "language_info": {
   "codemirror_mode": {
    "name": "ipython",
    "version": 2
   },
   "file_extension": ".py",
   "mimetype": "text/x-python",
   "name": "python",
   "nbconvert_exporter": "python",
   "pygments_lexer": "ipython2",
   "version": "2.7.6"
  },
  "pycharm": {
   "stem_cell": {
    "cell_type": "raw",
    "source": [],
    "metadata": {
     "collapsed": false
    }
   }
  }
 },
 "nbformat": 4,
 "nbformat_minor": 0
}
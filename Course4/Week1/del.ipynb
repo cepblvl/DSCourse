{
 "cells": [
  {
   "cell_type": "raw",
   "metadata": {},
   "source": [
    "По данным опроса, 75% работников ресторанов утверждают, что испытывают на работе существенный стресс, оказывающий негативное влияние на их личную жизнь. Крупная ресторанная сеть опрашивает 100 своих работников, чтобы выяснить, отличается ли уровень стресса работников в их ресторанах от среднего. 67 из 100 работников отметили высокий уровень стресса.\n",
    "\n",
    "Посчитайте достигаемый уровень значимости, округлите ответ до четырёх знаков после десятичной точки."
   ]
  },
  {
   "cell_type": "code",
   "execution_count": 3,
   "metadata": {},
   "outputs": [],
   "source": [
    "import numpy as np\n",
    "from scipy import stats\n",
    "import pandas as pd"
   ]
  },
  {
   "cell_type": "code",
   "execution_count": 4,
   "metadata": {},
   "outputs": [
    {
     "data": {
      "text/plain": [
       "0.0822"
      ]
     },
     "execution_count": 4,
     "metadata": {},
     "output_type": "execute_result"
    }
   ],
   "source": [
    "round(stats.binom_test(67, 100, 0.75), 4)"
   ]
  },
  {
   "cell_type": "raw",
   "metadata": {},
   "source": [
    "Представим теперь, что в другой ресторанной сети только 22 из 50 работников испытывают существенный стресс. Гипотеза о том, что 22/50 соответствует 75% по всей популяции, методом, который вы использовали в предыдущей задаче, отвергается."
   ]
  },
  {
   "cell_type": "code",
   "execution_count": 5,
   "metadata": {},
   "outputs": [
    {
     "data": {
      "text/plain": [
       "3.4831478978300243e-06"
      ]
     },
     "execution_count": 5,
     "metadata": {},
     "output_type": "execute_result"
    }
   ],
   "source": [
    "stats.binom_test(22, 50, 0.75)"
   ]
  },
  {
   "cell_type": "code",
   "execution_count": null,
   "metadata": {},
   "outputs": [],
   "source": []
  },
  {
   "cell_type": "raw",
   "metadata": {},
   "source": [
    "The Wage Tract — заповедник в округе Тома, Джорджия, США, деревья в котором не затронуты деятельностью человека со времён первых поселенцев. Для участка заповедника размером 200х200 м имеется информация о координатах сосен (sn — координата в направлении север-юг, we — в направлении запад-восток, обе от 0 до 200).\n",
    "Проверим, можно ли пространственное распределение сосен считать равномерным, или они растут кластерами.\n",
    "\n",
    "Загрузите данные, поделите участок на 5х5 одинаковых квадратов размера 40x40 м, посчитайте количество сосен в каждом квадрате (чтобы получить такой же результат, как у нас, используйте функцию scipy.stats.binned_statistic_2d).\n",
    "\n",
    "Если сосны действительно растут равномерно, какое среднее ожидаемое количество сосен в каждом квадрате? В правильном ответе два знака после десятичной точки."
   ]
  },
  {
   "cell_type": "code",
   "execution_count": 6,
   "metadata": {},
   "outputs": [],
   "source": [
    "data = pd.read_csv('pines.txt', header = 0, sep = '\\t')\n",
    "data.columns = ['sn', 'we']"
   ]
  },
  {
   "cell_type": "code",
   "execution_count": 7,
   "metadata": {},
   "outputs": [
    {
     "data": {
      "text/html": [
       "<div>\n",
       "<style scoped>\n",
       "    .dataframe tbody tr th:only-of-type {\n",
       "        vertical-align: middle;\n",
       "    }\n",
       "\n",
       "    .dataframe tbody tr th {\n",
       "        vertical-align: top;\n",
       "    }\n",
       "\n",
       "    .dataframe thead th {\n",
       "        text-align: right;\n",
       "    }\n",
       "</style>\n",
       "<table border=\"1\" class=\"dataframe\">\n",
       "  <thead>\n",
       "    <tr style=\"text-align: right;\">\n",
       "      <th></th>\n",
       "      <th>sn</th>\n",
       "      <th>we</th>\n",
       "    </tr>\n",
       "  </thead>\n",
       "  <tbody>\n",
       "    <tr>\n",
       "      <th>0</th>\n",
       "      <td>200.0</td>\n",
       "      <td>8.8</td>\n",
       "    </tr>\n",
       "    <tr>\n",
       "      <th>1</th>\n",
       "      <td>199.3</td>\n",
       "      <td>10.0</td>\n",
       "    </tr>\n",
       "    <tr>\n",
       "      <th>2</th>\n",
       "      <td>193.6</td>\n",
       "      <td>22.4</td>\n",
       "    </tr>\n",
       "    <tr>\n",
       "      <th>3</th>\n",
       "      <td>167.7</td>\n",
       "      <td>35.6</td>\n",
       "    </tr>\n",
       "    <tr>\n",
       "      <th>4</th>\n",
       "      <td>183.9</td>\n",
       "      <td>45.4</td>\n",
       "    </tr>\n",
       "    <tr>\n",
       "      <th>5</th>\n",
       "      <td>182.5</td>\n",
       "      <td>47.2</td>\n",
       "    </tr>\n",
       "    <tr>\n",
       "      <th>6</th>\n",
       "      <td>166.1</td>\n",
       "      <td>48.8</td>\n",
       "    </tr>\n",
       "    <tr>\n",
       "      <th>7</th>\n",
       "      <td>160.7</td>\n",
       "      <td>42.1</td>\n",
       "    </tr>\n",
       "    <tr>\n",
       "      <th>8</th>\n",
       "      <td>162.9</td>\n",
       "      <td>29.0</td>\n",
       "    </tr>\n",
       "    <tr>\n",
       "      <th>9</th>\n",
       "      <td>166.4</td>\n",
       "      <td>33.6</td>\n",
       "    </tr>\n",
       "    <tr>\n",
       "      <th>10</th>\n",
       "      <td>163.0</td>\n",
       "      <td>35.8</td>\n",
       "    </tr>\n",
       "    <tr>\n",
       "      <th>11</th>\n",
       "      <td>156.1</td>\n",
       "      <td>38.7</td>\n",
       "    </tr>\n",
       "    <tr>\n",
       "      <th>12</th>\n",
       "      <td>157.6</td>\n",
       "      <td>42.8</td>\n",
       "    </tr>\n",
       "    <tr>\n",
       "      <th>13</th>\n",
       "      <td>154.4</td>\n",
       "      <td>36.2</td>\n",
       "    </tr>\n",
       "    <tr>\n",
       "      <th>14</th>\n",
       "      <td>150.8</td>\n",
       "      <td>45.8</td>\n",
       "    </tr>\n",
       "    <tr>\n",
       "      <th>15</th>\n",
       "      <td>144.6</td>\n",
       "      <td>25.4</td>\n",
       "    </tr>\n",
       "    <tr>\n",
       "      <th>16</th>\n",
       "      <td>142.7</td>\n",
       "      <td>25.4</td>\n",
       "    </tr>\n",
       "    <tr>\n",
       "      <th>17</th>\n",
       "      <td>144.0</td>\n",
       "      <td>28.3</td>\n",
       "    </tr>\n",
       "    <tr>\n",
       "      <th>18</th>\n",
       "      <td>143.5</td>\n",
       "      <td>36.9</td>\n",
       "    </tr>\n",
       "    <tr>\n",
       "      <th>19</th>\n",
       "      <td>123.1</td>\n",
       "      <td>14.3</td>\n",
       "    </tr>\n",
       "  </tbody>\n",
       "</table>\n",
       "</div>"
      ],
      "text/plain": [
       "       sn    we\n",
       "0   200.0   8.8\n",
       "1   199.3  10.0\n",
       "2   193.6  22.4\n",
       "3   167.7  35.6\n",
       "4   183.9  45.4\n",
       "5   182.5  47.2\n",
       "6   166.1  48.8\n",
       "7   160.7  42.1\n",
       "8   162.9  29.0\n",
       "9   166.4  33.6\n",
       "10  163.0  35.8\n",
       "11  156.1  38.7\n",
       "12  157.6  42.8\n",
       "13  154.4  36.2\n",
       "14  150.8  45.8\n",
       "15  144.6  25.4\n",
       "16  142.7  25.4\n",
       "17  144.0  28.3\n",
       "18  143.5  36.9\n",
       "19  123.1  14.3"
      ]
     },
     "execution_count": 7,
     "metadata": {},
     "output_type": "execute_result"
    }
   ],
   "source": [
    "data.head(20)"
   ]
  },
  {
   "cell_type": "code",
   "execution_count": 8,
   "metadata": {},
   "outputs": [],
   "source": [
    "X = (data.sn.values)"
   ]
  },
  {
   "cell_type": "code",
   "execution_count": 9,
   "metadata": {},
   "outputs": [
    {
     "data": {
      "text/plain": [
       "numpy.ndarray"
      ]
     },
     "execution_count": 9,
     "metadata": {},
     "output_type": "execute_result"
    }
   ],
   "source": [
    "type(X)"
   ]
  },
  {
   "cell_type": "code",
   "execution_count": 10,
   "metadata": {},
   "outputs": [
    {
     "data": {
      "text/plain": [
       "200.0"
      ]
     },
     "execution_count": 10,
     "metadata": {},
     "output_type": "execute_result"
    }
   ],
   "source": [
    "X[0]"
   ]
  },
  {
   "cell_type": "code",
   "execution_count": 11,
   "metadata": {},
   "outputs": [
    {
     "data": {
      "text/plain": [
       "numpy.float64"
      ]
     },
     "execution_count": 11,
     "metadata": {},
     "output_type": "execute_result"
    }
   ],
   "source": [
    "type(X[0])"
   ]
  },
  {
   "cell_type": "code",
   "execution_count": 12,
   "metadata": {},
   "outputs": [
    {
     "data": {
      "text/plain": [
       "200.0"
      ]
     },
     "execution_count": 12,
     "metadata": {},
     "output_type": "execute_result"
    }
   ],
   "source": [
    "float(X[0])"
   ]
  },
  {
   "cell_type": "code",
   "execution_count": 13,
   "metadata": {},
   "outputs": [
    {
     "data": {
      "text/plain": [
       "array([200. , 199.3, 193.6, 167.7, 183.9, 182.5, 166.1, 160.7, 162.9,\n",
       "       166.4, 163. , 156.1, 157.6, 154.4, 150.8, 144.6, 142.7, 144. ,\n",
       "       143.5, 123.1, 113.9, 114.9, 101.4, 105.7, 106.9, 127. , 129.8,\n",
       "       136.3, 106.7, 103.4,  89.7,  10.8,  26.4,  11. ,   5.1,  10.1,\n",
       "        18.9,  28.4,  41.1,  41.2,  33.9,  40.8,  49.7,   6.7,  11.6,\n",
       "        17.2,  19.4,  26.9,  39.6,  38. ,  19.1,  32.1,  28.4,   3.8,\n",
       "         8.5,  11.2,  22.4,  23.8,  24.9,   9. ,  10.4,  30.9,  48.9,\n",
       "        49.5,  46.3,  44.1,  48.5,  45.9,  44.2,  37. ,  36.3,  36.7,\n",
       "        35.3,  33.5,  29.3,  22.4,  17.1,  27.3,  27.9,  48.4,  43.6,\n",
       "        39. ,  14.9,   6.1,  10.7,  22.2,  32.7,   0.9,  93.5,  85.1,\n",
       "        92.8,  91.3,  95.9,  93.4,  89.6,  99.5, 100.6, 103.5, 104.7,\n",
       "       104. , 104.2, 105. , 111.8, 112.4, 110. , 120.4, 109.4, 109.7,\n",
       "       113.3, 118. , 126.5, 125.1, 114.2, 110.6, 147.3, 146.7, 148.1,\n",
       "       138.2, 135.7, 134.9,  98. ,  93.5,  82.3,  79.2,  84.2,  88.8,\n",
       "        82.5,  75.6,  72.9,  79.1,  50. ,  59.9,  60.5,  60.2,  66.5,\n",
       "        70.4,  70.7,  71.7, 179.5, 186.1, 178.3, 178.6, 186.2, 185.2,\n",
       "       185.5, 185.8, 186.5, 176.7, 177.7, 184. ,  11. ,  17.5,   4.3,\n",
       "         5.9,   1.9,   1.8,   1.1,   2.4,   4.6,   3.1,   3.9,   4.1,\n",
       "         7.9,  14.8,   9.4,  15.9,  16.6,  18.2, 174.1, 173. , 174. ,\n",
       "       177.3, 177.6, 195.7, 197. , 178.2, 173.8, 172.8, 162.7, 164.6,\n",
       "        80.4,  71. ,  73. ,  56.7,  66.5,  67. ,  62.9,  61.8,  51.9,\n",
       "        60.9,  61. ,  61.7,  57.3,  54.2,  76.1,  67.2,  81.9,  90.1,\n",
       "       135.3, 135. , 136.2, 129.7, 134.8, 136.9, 137. , 128.9, 127.5,\n",
       "       127.6, 129.7, 126.6, 133.4, 129.9, 126.5, 129.1, 134.4, 130.7,\n",
       "       130.9, 132. , 136.8, 137.7, 157.8, 187.1, 190.6, 185.4, 186.6,\n",
       "       185.9, 184.3, 188.2, 104.4, 104.9, 101.5, 102.4, 123.4, 123.8,\n",
       "       127. , 109.6, 112.4, 133.1, 139.4, 140.4, 184.1, 183.5, 183. ,\n",
       "       176.1, 175.6, 173.8, 164.9, 163. , 163.2, 162.4, 161.5, 162.2,\n",
       "       161. , 157.7, 154.9, 154.6, 152.9, 153.2, 168.2, 151.6, 151.4,\n",
       "       157.6, 149.4, 149.4, 167.3, 157.4, 181.5, 196.5, 189.9, 155.1,\n",
       "       154.5, 162.9, 158.4, 153.9, 156.1, 156.5, 156.8, 159. , 161. ,\n",
       "       161.3, 160.6, 161.3, 159.7, 161.7, 161.1, 160.1, 159. , 160. ,\n",
       "       160.2, 159.1, 154.7, 151.9, 151.3, 151. , 150.4, 149.6, 146.2,\n",
       "       146.1, 144.4, 143.3, 140.6, 143.2, 127.1, 120.7, 115.3, 134.1,\n",
       "       134.6, 135.6, 128.9, 116.3, 104.3, 111.5, 100.5, 100. , 100.8,\n",
       "       100.9, 100.3, 101.5,  99.3,  99.2, 102. , 105.4, 103.6, 103.9,\n",
       "       102.6, 102. , 102.1, 103.5, 102.9, 105.7, 106.6, 108.5, 105.2,\n",
       "       139.7, 145.5, 146.4, 105.8,  96.7,  66.5,  55.7,  54.7,  57.1,\n",
       "        61.7,  60.1,  77.7,  67.2,  80.7,  85.1,  94.7,  81.2,  81.9,\n",
       "        83.8,  84.8,  82.9,  82.1,  84.3,  96.7,  92. ,  96.1,  78.5,\n",
       "        78.7,  59.5,  56.5,  64.3, 152.7, 155.8, 161.2, 161. , 162.1,\n",
       "       166.2, 168.7, 169.3,  57.9,  57.5,  57.3,  56. ,  53.4,  53.1,\n",
       "        54. ,  54.5,  53.3,  52.1,  48. ,  44.2,  39.4,  42.7,  38.1,\n",
       "        37.1,  37.6,  31.2,  40.1,  29.3,  23.8, 141. , 140.1, 140.9,\n",
       "       135. , 139.3, 142. , 140.4, 138.5,  28.7,  33.7,  23.1,  11.3,\n",
       "        18.2,  21.5,  15.9,  15.4,  14. ,   6.8,   6. ,   1.6,  43.6,\n",
       "        39.4,  37.1,  23.7,  21.5,  27.7,  32.3,  32.6,  37.7, 107.5,\n",
       "       107.9, 116.5, 114.5, 115.3, 115.3, 119. , 119.4,  94.7,  89.3,\n",
       "        90.8,  95.3,  90.9,  90.2,  90.2,  90.6,  93. ,  78.4,  76.2,\n",
       "        75.8,  75.7,  82.7,  76.7,  74.7, 119.4,  74.2,  73.9,  81.7,\n",
       "        79.5,  56.8,  62.2,  58.2,  54.1,  59.5,  58.6,  58.8,  57.9,\n",
       "       153.5, 155.9, 160.4, 171.3, 182.8, 182.5, 176.3, 161.9, 199.5,\n",
       "       197.6, 196.3, 195.7, 196.2, 196.3, 193.7, 191.7, 194.5, 192.7,\n",
       "       188.9, 190.1, 186.9,  26.9,  17.9,  34.4,  31.9,  20.6,  14.1,\n",
       "         2.9,   6.4,   2.2,  11.7,  14.2,  15.6,  13.6,  11.1,   7.2,\n",
       "        12.2,  23. ,  30.2,  27.7,   3.4,  15.4,  16.7,  24.3,   0.4,\n",
       "         0. ,   7.9,  33.2,  36.6,  42.2,  24.5,  40.4,  41. ,  43.9,\n",
       "        44.7,  45.6,  47.5,  51.2,  55. ,  58. ,  54.6,  58.9,  63.9,\n",
       "        64.3,  65.6,  61. ,  63.1,  86.1,  65.8,  90. ,  94.3,  91.9,\n",
       "        86.5,  87.5,  93.9,  92.4,  81.8,  99. ,  94.1,  95.4,  97.1,\n",
       "        79.2,  61.6,  70.3,  79.8, 110.1, 116.1, 114. , 103.2, 112.3,\n",
       "       110.4, 110.6, 107. , 105.6, 104. , 104. , 103.7, 108.6, 105.7,\n",
       "       102.8, 101.5, 100.4, 144.1, 138.3, 142.7, 118.8, 142.3, 143.8,\n",
       "       145.3, 151.2, 153.7, 186.9, 181.2, 181.1, 177.2, 182.8, 180. ,\n",
       "       189.1, 196.9, 171.4, 169.1, 162.5, 156.7, 154.1,  87.7])"
      ]
     },
     "execution_count": 13,
     "metadata": {},
     "output_type": "execute_result"
    }
   ],
   "source": [
    "X.astype(float)"
   ]
  },
  {
   "cell_type": "code",
   "execution_count": 14,
   "metadata": {},
   "outputs": [],
   "source": [
    "Y = data.we.values"
   ]
  },
  {
   "cell_type": "code",
   "execution_count": 15,
   "metadata": {},
   "outputs": [],
   "source": [
    "binx = [0.0, 40., 80., 120., 160., 200.]"
   ]
  },
  {
   "cell_type": "code",
   "execution_count": 16,
   "metadata": {},
   "outputs": [],
   "source": [
    "biny = [0.0, 40., 80., 120., 160., 200.]"
   ]
  },
  {
   "cell_type": "code",
   "execution_count": 17,
   "metadata": {},
   "outputs": [
    {
     "data": {
      "text/plain": [
       "584"
      ]
     },
     "execution_count": 17,
     "metadata": {},
     "output_type": "execute_result"
    }
   ],
   "source": [
    "len(X)"
   ]
  },
  {
   "cell_type": "code",
   "execution_count": 18,
   "metadata": {},
   "outputs": [
    {
     "data": {
      "text/plain": [
       "584"
      ]
     },
     "execution_count": 18,
     "metadata": {},
     "output_type": "execute_result"
    }
   ],
   "source": [
    "len(Y)"
   ]
  },
  {
   "cell_type": "code",
   "execution_count": 19,
   "metadata": {},
   "outputs": [],
   "source": [
    "ret = stats.binned_statistic_2d(X, Y, None, statistic  = 'count', bins=[binx,biny])"
   ]
  },
  {
   "cell_type": "code",
   "execution_count": 20,
   "metadata": {},
   "outputs": [
    {
     "data": {
      "text/plain": [
       "array([[18., 26., 29., 25., 20.],\n",
       "       [14., 12., 22., 34., 25.],\n",
       "       [12., 24., 15., 50., 37.],\n",
       "       [ 8., 19., 31., 50.,  7.],\n",
       "       [ 7.,  8., 37., 27., 27.]])"
      ]
     },
     "execution_count": 20,
     "metadata": {},
     "output_type": "execute_result"
    }
   ],
   "source": [
    "ret.statistic"
   ]
  },
  {
   "cell_type": "code",
   "execution_count": 21,
   "metadata": {},
   "outputs": [
    {
     "data": {
      "text/plain": [
       "23.36"
      ]
     },
     "execution_count": 21,
     "metadata": {},
     "output_type": "execute_result"
    }
   ],
   "source": [
    "l = 584./25.\n",
    "l"
   ]
  },
  {
   "cell_type": "code",
   "execution_count": null,
   "metadata": {},
   "outputs": [],
   "source": []
  },
  {
   "cell_type": "code",
   "execution_count": 22,
   "metadata": {},
   "outputs": [
    {
     "data": {
      "text/plain": [
       "584"
      ]
     },
     "execution_count": 22,
     "metadata": {},
     "output_type": "execute_result"
    }
   ],
   "source": [
    "len(data)"
   ]
  },
  {
   "cell_type": "code",
   "execution_count": 23,
   "metadata": {},
   "outputs": [
    {
     "data": {
      "text/plain": [
       "array([18., 26., 29., 25., 20., 14., 12., 22., 34., 25., 12., 24., 15.,\n",
       "       50., 37.,  8., 19., 31., 50.,  7.,  7.,  8., 37., 27., 27.])"
      ]
     },
     "execution_count": 23,
     "metadata": {},
     "output_type": "execute_result"
    }
   ],
   "source": [
    "observed_frequences = np.concatenate((ret.statistic[0], ret.statistic[1], ret.statistic[2], ret.statistic[3], ret.statistic[4]), axis=0)\n",
    "observed_frequences"
   ]
  },
  {
   "cell_type": "code",
   "execution_count": null,
   "metadata": {},
   "outputs": [],
   "source": []
  },
  {
   "cell_type": "code",
   "execution_count": 26,
   "metadata": {},
   "outputs": [
    {
     "data": {
      "text/plain": [
       "Power_divergenceResult(statistic=150.58904109589042, pvalue=2.574669774967279e-20)"
      ]
     },
     "execution_count": 26,
     "metadata": {},
     "output_type": "execute_result"
    }
   ],
   "source": [
    "Z = stats.chisquare(observed_frequences, ddof = 0)\n",
    "Z"
   ]
  },
  {
   "cell_type": "code",
   "execution_count": 27,
   "metadata": {},
   "outputs": [
    {
     "data": {
      "text/plain": [
       "150.59"
      ]
     },
     "execution_count": 27,
     "metadata": {},
     "output_type": "execute_result"
    }
   ],
   "source": [
    "round(Z[0], 2)"
   ]
  },
  {
   "cell_type": "code",
   "execution_count": null,
   "metadata": {
    "collapsed": true
   },
   "outputs": [],
   "source": []
  }
 ],
 "metadata": {
  "kernelspec": {
   "display_name": "Python 3",
   "language": "python",
   "name": "python3"
  },
  "language_info": {
   "codemirror_mode": {
    "name": "ipython",
    "version": 3
   },
   "file_extension": ".py",
   "mimetype": "text/x-python",
   "name": "python",
   "nbconvert_exporter": "python",
   "pygments_lexer": "ipython3",
   "version": "3.7.3"
  }
 },
 "nbformat": 4,
 "nbformat_minor": 1
}
